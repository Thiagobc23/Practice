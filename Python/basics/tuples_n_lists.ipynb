{
 "cells": [
  {
   "cell_type": "code",
   "execution_count": 1,
   "metadata": {},
   "outputs": [
    {
     "name": "stdout",
     "output_type": "stream",
     "text": [
      "tuple: (7, 8, 9)\n",
      "nested tuple: ((1, 2, 3), (4, 5))\n",
      "tuple index[1]: 8\n",
      "nested tuple index[1][1]: 5\n"
     ]
    }
   ],
   "source": [
    "# Tuple\n",
    "tup = 7, 8, 9; print 'tuple:', tup\n",
    "nest_tup = (1, 2, 3), (4, 5); print 'nested tuple:', nest_tup\n",
    "\n",
    "print 'tuple index[1]:',  tup[1]\n",
    "print 'nested tuple index[1][1]:', nest_tup[1][1]"
   ]
  },
  {
   "cell_type": "code",
   "execution_count": 2,
   "metadata": {},
   "outputs": [
    {
     "name": "stdout",
     "output_type": "stream",
     "text": [
      "(1, 2, [3, 4, 5, 6])\n"
     ]
    }
   ],
   "source": [
    "# tuples are imutable, objects inside they aren't \n",
    "tup = (1, 2, [3, 4, 5])\n",
    "tup[2].append(6); print(tup)"
   ]
  },
  {
   "cell_type": "code",
   "execution_count": 3,
   "metadata": {},
   "outputs": [
    {
     "data": {
      "text/plain": [
       "('donald duck', 'louie', 'dewey', 'huey')"
      ]
     },
     "execution_count": 3,
     "metadata": {},
     "output_type": "execute_result"
    }
   ],
   "source": [
    "# Concatenating tuples with '+' Objects are not copied, just the references.\n",
    "tup1 = ('donald duck',)\n",
    "tup2 = ('louie', 'dewey', 'huey')\n",
    "tup1 + tup2"
   ]
  },
  {
   "cell_type": "code",
   "execution_count": 4,
   "metadata": {},
   "outputs": [
    {
     "data": {
      "text/plain": [
       "('th', 'th', 'th', \"that's all folks\")"
      ]
     },
     "execution_count": 4,
     "metadata": {},
     "output_type": "execute_result"
    }
   ],
   "source": [
    "# Multiplying a tuple with *\n",
    "tup1 = ('th',)\n",
    "tup2 = (\"that's all folks\",)\n",
    "tup1 * 3 + tup2"
   ]
  },
  {
   "cell_type": "code",
   "execution_count": 5,
   "metadata": {},
   "outputs": [
    {
     "name": "stdout",
     "output_type": "stream",
     "text": [
      "1 2 (3, 4, 5) \n",
      "\n",
      "1 2 3 4 5\n"
     ]
    }
   ],
   "source": [
    "# unpacking a tuple\n",
    "tup = (1, 2, (3, 4, 5))\n",
    "\n",
    "x,y,z = tup\n",
    "print x, y, z, '\\n'\n",
    "\n",
    "a, b, (x, y, z) = tup\n",
    "print a, b, x, y, z"
   ]
  },
  {
   "cell_type": "code",
   "execution_count": 6,
   "metadata": {},
   "outputs": [
    {
     "name": "stdout",
     "output_type": "stream",
     "text": [
      "a=1, b=2, c=3\n",
      "a=10, b=20, c=30\n",
      "a=100, b=200, c=300\n"
     ]
    }
   ],
   "source": [
    "# unpack multiple tuples\n",
    "tup = ((1, 2, 3),(10, 20, 30),(100, 200, 300))\n",
    "\n",
    "for a, b, c in tup:\n",
    "    print('a={0}, b={1}, c={2}'.format(a, b, c))"
   ]
  },
  {
   "cell_type": "code",
   "execution_count": 10,
   "metadata": {},
   "outputs": [
    {
     "data": {
      "text/plain": [
       "7"
      ]
     },
     "execution_count": 10,
     "metadata": {},
     "output_type": "execute_result"
    }
   ],
   "source": [
    "# counting how many ones in the tuple\n",
    "tup = (1, 1, 1, 2, 3, 4, 1, 5, 1, 1, 6, 7, 8, 9, 1)\n",
    "tup.count(1)"
   ]
  },
  {
   "cell_type": "code",
   "execution_count": 17,
   "metadata": {},
   "outputs": [
    {
     "name": "stdout",
     "output_type": "stream",
     "text": [
      "[0, 1, 2, 3, 4, 5, 6, 7, 8, 9]\n",
      "[0, 1, 2, 3, 4, 5, 6, 7, 8, 9, 10]\n",
      "\n",
      "5\n",
      "[0, 1, 2, 3, 4, 6, 7, 8, 9, 10]\n",
      "\n",
      "[0, 1, 2, 3, 4, 5, 6, 7, 8, 9, 10]\n"
     ]
    }
   ],
   "source": [
    "# Lists\n",
    "\n",
    "# list starting from 0 and containing 10 values\n",
    "myList = list(range(0,10))\n",
    "print myList\n",
    "\n",
    "# adding a 10 to the end of the list\n",
    "myList.append(10)\n",
    "print myList\n",
    "\n",
    "# returning and deleting a value from the list ---BY INDEX---\n",
    "x = myList.pop(5)\n",
    "print '\\n', x ; print myList\n",
    "\n",
    "# inserting a value to the list ---BY INDEX---\n",
    "myList.insert(5, x)\n",
    "print '\\n', myList"
   ]
  },
  {
   "cell_type": "code",
   "execution_count": 22,
   "metadata": {},
   "outputs": [
    {
     "name": "stdout",
     "output_type": "stream",
     "text": [
      "['John F. Kennedy', 'John Lennon', 'Bob', 'Johnny Depp', 'John Travolta', 'John Rambo', 'Bob']\n",
      "['John F. Kennedy', 'John Lennon', 'Johnny Depp', 'John Travolta', 'John Rambo', 'Bob'] \n",
      "\n",
      "True\n"
     ]
    }
   ],
   "source": [
    "myList = ['John F. Kennedy','John Lennon','Bob','Johnny Depp','John Travolta','John Rambo', 'Bob']\n",
    "print myList\n",
    "\n",
    "# removing the first matching value\n",
    "myList.remove('Bob')\n",
    "print myList, '\\n'\n",
    "\n",
    "# check if value exists in the list\n",
    "print 'Bob' in myList"
   ]
  },
  {
   "cell_type": "code",
   "execution_count": 25,
   "metadata": {},
   "outputs": [
    {
     "name": "stdout",
     "output_type": "stream",
     "text": [
      "['Apple', 'Banana', 'Orange', 1, 2, 3]\n",
      "['Apple', 'Banana', 'Orange', 1, 2, 3]\n"
     ]
    }
   ],
   "source": [
    "# Merging, combining, concatenating... \n",
    "\n",
    "a = ['Apple', 'Banana', 'Orange']\n",
    "b = [1, 2, 3]\n",
    "\n",
    "# assiging a new variable for the combined list\n",
    "c = a + b; print c\n",
    "\n",
    "# merging them into one\n",
    "a.extend(b); print a"
   ]
  },
  {
   "cell_type": "code",
   "execution_count": 33,
   "metadata": {},
   "outputs": [
    {
     "name": "stdout",
     "output_type": "stream",
     "text": [
      "[1253, 48932, 17258, 1923, 5059, 12039, 9642, 89993, 5943, 7230]\n",
      "[1253, 1923, 5059, 5943, 7230, 9642, 12039, 17258, 48932, 89993] \n",
      "\n",
      "['Johnny Depp', 'John F. Kennedy', 'John Travolta', 'John Rambo', 'John Lennon']\n",
      "['John F. Kennedy', 'John Lennon', 'John Rambo', 'John Travolta', 'Johnny Depp']\n",
      "['John Rambo', 'John Lennon', 'Johnny Depp', 'John Travolta', 'John F. Kennedy']\n"
     ]
    }
   ],
   "source": [
    "# sorting numbers\n",
    "a = [1253, 48932, 17258, 1923, 5059, 12039, 9642, 89993, 5943, 7230]; print a\n",
    "a.sort(); print a, '\\n'\n",
    "\n",
    "# sorting strings\n",
    "myList = ['Johnny Depp','John F. Kennedy','John Travolta','John Rambo','John Lennon']; print myList\n",
    "myList.sort(); print myList\n",
    "\n",
    "# sorting with different key *by lenght\n",
    "myList.sort(key=len); print myList"
   ]
  },
  {
   "cell_type": "code",
   "execution_count": 39,
   "metadata": {},
   "outputs": [
    {
     "name": "stdout",
     "output_type": "stream",
     "text": [
      "[1000, 5000, 7000, 9000, 12000, 17000, 25000, 40000, 42000, 80000]\n",
      "7 \n",
      "\n",
      "[1000, 5000, 7000, 9000, 12000, 17000, 25000, 29999, 40000, 42000, 80000]\n"
     ]
    }
   ],
   "source": [
    "# Binary Search\n",
    "import bisect\n",
    "\n",
    "# create a sorted list\n",
    "a = [1000, 40000, 17000, 42000, 5000, 12000, 9000, 80000, 25000, 7000]\n",
    "a.sort(); print a\n",
    "\n",
    "# Use binary search to find the index to add a value and keeping the list sorted\n",
    "idx = bisect.bisect(a, 29999); print idx, '\\n'\n",
    "\n",
    "# Use binary search to insert the value and keep the list sorted\n",
    "bisect.insort(a, 29999); print a"
   ]
  },
  {
   "cell_type": "code",
   "execution_count": null,
   "metadata": {},
   "outputs": [],
   "source": []
  }
 ],
 "metadata": {
  "kernelspec": {
   "display_name": "Python 3",
   "language": "python",
   "name": "python3"
  },
  "language_info": {
   "codemirror_mode": {
    "name": "ipython",
    "version": 3
   },
   "file_extension": ".py",
   "mimetype": "text/x-python",
   "name": "python",
   "nbconvert_exporter": "python",
   "pygments_lexer": "ipython3",
   "version": "3.7.2"
  }
 },
 "nbformat": 4,
 "nbformat_minor": 2
}
