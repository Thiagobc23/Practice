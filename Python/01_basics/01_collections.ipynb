{
 "cells": [
  {
   "cell_type": "code",
   "execution_count": 8,
   "metadata": {},
   "outputs": [
    {
     "name": "stdout",
     "output_type": "stream",
     "text": [
      "tuple: (7, 8, 9)\n",
      "nested tuple: ((1, 2, 3), (4, 5))\n",
      "tuple index[1]: 8\n",
      "nested tuple index[1][1]: 5\n"
     ]
    }
   ],
   "source": [
    "# Tuple\n",
    "tup = 7, 8, 9; print('tuple:', tup)\n",
    "nest_tup = (1, 2, 3), (4, 5); print('nested tuple:', nest_tup)\n",
    "\n",
    "print('tuple index[1]:',  tup[1])\n",
    "print('nested tuple index[1][1]:', nest_tup[1][1])"
   ]
  },
  {
   "cell_type": "code",
   "execution_count": 9,
   "metadata": {},
   "outputs": [
    {
     "name": "stdout",
     "output_type": "stream",
     "text": [
      "(1, 2, [3, 4, 5, 6])\n"
     ]
    }
   ],
   "source": [
    "# tuples are imutable, objects inside they aren't \n",
    "tup = (1, 2, [3, 4, 5])\n",
    "tup[2].append(6); print(tup)"
   ]
  },
  {
   "cell_type": "code",
   "execution_count": 10,
   "metadata": {},
   "outputs": [
    {
     "data": {
      "text/plain": [
       "('donald duck', 'louie', 'dewey', 'huey')"
      ]
     },
     "execution_count": 10,
     "metadata": {},
     "output_type": "execute_result"
    }
   ],
   "source": [
    "# Concatenating tuples with '+' Objects are not copied, just the references.\n",
    "tup1 = ('donald duck',)\n",
    "tup2 = ('louie', 'dewey', 'huey')\n",
    "tup1 + tup2"
   ]
  },
  {
   "cell_type": "code",
   "execution_count": 11,
   "metadata": {},
   "outputs": [
    {
     "data": {
      "text/plain": [
       "('th', 'th', 'th', \"that's all folks\")"
      ]
     },
     "execution_count": 11,
     "metadata": {},
     "output_type": "execute_result"
    }
   ],
   "source": [
    "# Multiplying a tuple with *\n",
    "tup1 = ('th',)\n",
    "tup2 = (\"that's all folks\",)\n",
    "tup1 * 3 + tup2"
   ]
  },
  {
   "cell_type": "code",
   "execution_count": 12,
   "metadata": {},
   "outputs": [
    {
     "name": "stdout",
     "output_type": "stream",
     "text": [
      "1 2 (3, 4, 5) \n",
      "\n",
      "1 2 3 4 5\n"
     ]
    }
   ],
   "source": [
    "# unpacking a tuple\n",
    "tup = (1, 2, (3, 4, 5))\n",
    "\n",
    "x,y,z = tup\n",
    "print(x, y, z, '\\n')\n",
    "\n",
    "a, b, (x, y, z) = tup\n",
    "print(a, b, x, y, z)"
   ]
  },
  {
   "cell_type": "code",
   "execution_count": 13,
   "metadata": {},
   "outputs": [
    {
     "name": "stdout",
     "output_type": "stream",
     "text": [
      "a=1, b=2, c=3\n",
      "a=10, b=20, c=30\n",
      "a=100, b=200, c=300\n"
     ]
    }
   ],
   "source": [
    "# unpack multiple tuples\n",
    "tup = ((1, 2, 3),(10, 20, 30),(100, 200, 300))\n",
    "\n",
    "for a, b, c in tup:\n",
    "    print('a={0}, b={1}, c={2}'.format(a, b, c))"
   ]
  },
  {
   "cell_type": "code",
   "execution_count": 14,
   "metadata": {},
   "outputs": [
    {
     "data": {
      "text/plain": [
       "7"
      ]
     },
     "execution_count": 14,
     "metadata": {},
     "output_type": "execute_result"
    }
   ],
   "source": [
    "# counting how many ones in the tuple\n",
    "tup = (1, 1, 1, 2, 3, 4, 1, 5, 1, 1, 6, 7, 8, 9, 1)\n",
    "tup.count(1)"
   ]
  },
  {
   "cell_type": "code",
   "execution_count": 18,
   "metadata": {},
   "outputs": [
    {
     "name": "stdout",
     "output_type": "stream",
     "text": [
      "[0, 1, 2, 3, 4, 5, 6, 7, 8, 9]\n",
      "[0, 1, 2, 3, 4, 5, 6, 7, 8, 9, 10]\n",
      "\n",
      " 5\n",
      "[0, 1, 2, 3, 4, 6, 7, 8, 9, 10]\n",
      "[0, 1, 2, 3, 4, 5, 6, 7, 8, 9, 10]\n"
     ]
    }
   ],
   "source": [
    "# Lists\n",
    "\n",
    "# list starting from 0 and containing 10 values\n",
    "myList = list(range(0,10))\n",
    "print(myList)\n",
    "\n",
    "# adding a 10 to the end of the list\n",
    "myList.append(10)\n",
    "print(myList)\n",
    "\n",
    "# returning and deleting a value from the list ---BY INDEX---\n",
    "x = myList.pop(5)\n",
    "print('\\n', x); print(myList)\n",
    "\n",
    "# inserting a value to the list ---BY INDEX---\n",
    "myList.insert(5, x)\n",
    "print(myList)"
   ]
  },
  {
   "cell_type": "code",
   "execution_count": 19,
   "metadata": {},
   "outputs": [
    {
     "name": "stdout",
     "output_type": "stream",
     "text": [
      "['John F. Kennedy', 'John Lennon', 'Bob', 'Johnny Depp', 'John Travolta', 'John Rambo', 'Bob']\n",
      "['John F. Kennedy', 'John Lennon', 'Johnny Depp', 'John Travolta', 'John Rambo', 'Bob'] \n",
      "\n",
      "True\n"
     ]
    }
   ],
   "source": [
    "myList = ['John F. Kennedy','John Lennon','Bob','Johnny Depp','John Travolta','John Rambo', 'Bob']\n",
    "print(myList)\n",
    "\n",
    "# removing the first matching value\n",
    "myList.remove('Bob')\n",
    "print(myList, '\\n')\n",
    "\n",
    "# check if value exists in the list\n",
    "print('Bob' in myList)"
   ]
  },
  {
   "cell_type": "code",
   "execution_count": 20,
   "metadata": {},
   "outputs": [
    {
     "name": "stdout",
     "output_type": "stream",
     "text": [
      "a + b = c \n",
      " c =  ['Apple', 'Banana', 'Orange', 1, 2, 3]\n",
      "a extend b \n",
      " a =  ['Apple', 'Banana', 'Orange', 1, 2, 3]\n"
     ]
    }
   ],
   "source": [
    "# Merging, combining, concatenating... \n",
    "\n",
    "a = ['Apple', 'Banana', 'Orange']\n",
    "b = [1, 2, 3]\n",
    "\n",
    "# assiging a new variable for the combined list\n",
    "c = a + b; print(\"a + b = c \\n c = \", c)\n",
    "\n",
    "# merging them into one\n",
    "a.extend(b); print('a extend b \\n a = ', a)"
   ]
  },
  {
   "cell_type": "code",
   "execution_count": 21,
   "metadata": {},
   "outputs": [
    {
     "name": "stdout",
     "output_type": "stream",
     "text": [
      "[12341, 598793, 238947]\n",
      "[500, 600]\n",
      "[200, 300, 400]\n",
      "\n",
      "\n",
      "[12341, 598793, 238947]\n",
      "[500, 600]\n",
      "[200, 300, 400]\n"
     ]
    }
   ],
   "source": [
    "# slicing\n",
    "a = [200, 300, 400, 12341, 598793, 238947, 500, 600]; \n",
    "# passing a range\n",
    "print(a[3:6])\n",
    "# passing just the start\n",
    "print(a[6:])\n",
    "# passing just the end, passing\n",
    "print(a[:3])\n",
    "\n",
    "# negative numbers mean the index is relative to the end\n",
    "print('\\n')\n",
    "\n",
    "# passing range\n",
    "print(a[-5:-2])\n",
    "# passing the end\n",
    "print(a[-2:])\n",
    "# passing the start\n",
    "print(a[:-5])"
   ]
  },
  {
   "cell_type": "code",
   "execution_count": 22,
   "metadata": {},
   "outputs": [
    {
     "name": "stdout",
     "output_type": "stream",
     "text": [
      "Lebowski\n",
      "['L', 'b', 'e', 'i', 'k', 'o', 's', 'w']\n",
      "ski\n",
      "Lbwk\n",
      "ikswobeL\n"
     ]
    }
   ],
   "source": [
    "# string is a sequence of characters, so we can slice it the same way\n",
    "name = 'Lebowski'; print(name)\n",
    "print(sorted(name))\n",
    "print(name[-3:])\n",
    "\n",
    "# we can add another colon to pass the step\n",
    "# every other\n",
    "print(name[::2])\n",
    "# reverse\n",
    "print(name[::-1])"
   ]
  },
  {
   "cell_type": "code",
   "execution_count": 23,
   "metadata": {},
   "outputs": [
    {
     "name": "stdout",
     "output_type": "stream",
     "text": [
      "[1253, 48932, 17258, 1923, 5059, 12039, 9642, 89993, 5943, 7230]\n",
      "[1253, 1923, 5059, 5943, 7230, 9642, 12039, 17258, 48932, 89993] \n",
      "\n",
      "['Johnny Depp', 'John F. Kennedy', 'John Travolta', 'John Rambo', 'John Lennon']\n",
      "['John F. Kennedy', 'John Lennon', 'John Rambo', 'John Travolta', 'Johnny Depp']\n",
      "['John Rambo', 'John Lennon', 'Johnny Depp', 'John Travolta', 'John F. Kennedy']\n"
     ]
    }
   ],
   "source": [
    "# sorting numbers\n",
    "a = [1253, 48932, 17258, 1923, 5059, 12039, 9642, 89993, 5943, 7230]; print(a)\n",
    "a.sort(); print(a, '\\n')\n",
    "\n",
    "# sorting strings\n",
    "myList = ['Johnny Depp','John F. Kennedy','John Travolta','John Rambo','John Lennon']; print(myList)\n",
    "myList.sort(); print(myList)\n",
    "\n",
    "# sorting with different key *by lenght\n",
    "myList.sort(key=len); print(myList)"
   ]
  },
  {
   "cell_type": "code",
   "execution_count": 24,
   "metadata": {},
   "outputs": [
    {
     "name": "stdout",
     "output_type": "stream",
     "text": [
      "[1000, 5000, 7000, 9000, 12000, 17000, 25000, 40000, 42000, 80000]\n",
      "7 \n",
      "\n",
      "[1000, 5000, 7000, 9000, 12000, 17000, 25000, 29999, 40000, 42000, 80000]\n"
     ]
    }
   ],
   "source": [
    "# Binary Search\n",
    "import bisect\n",
    "\n",
    "# create a sorted list\n",
    "a = [1000, 40000, 17000, 42000, 5000, 12000, 9000, 80000, 25000, 7000]\n",
    "a.sort(); print(a)\n",
    "\n",
    "# Use binary search to find the index to add a value and keeping the list sorted\n",
    "idx = bisect.bisect(a, 29999); print(idx, '\\n')\n",
    "\n",
    "# Use binary search to insert the value and keep the list sorted\n",
    "bisect.insort(a, 29999); print(a)"
   ]
  },
  {
   "cell_type": "code",
   "execution_count": 25,
   "metadata": {},
   "outputs": [
    {
     "name": "stdout",
     "output_type": "stream",
     "text": [
      "[('player 1', 'Zelda'), ('player 2', 'God of War'), ('player 3', 'Blackjack')]\n"
     ]
    }
   ],
   "source": [
    "# Zip\n",
    "players = ['player 1', 'player 2', 'player 3']\n",
    "games = ['Zelda', 'God of War', 'Blackjack']\n",
    "\n",
    "# pair elements in lists\n",
    "z = zip(players, games)\n",
    "print(list(z))"
   ]
  },
  {
   "cell_type": "code",
   "execution_count": 26,
   "metadata": {},
   "outputs": [
    {
     "name": "stdout",
     "output_type": "stream",
     "text": [
      "0 - player 1 is playing: Zelda\n",
      "1 - player 2 is playing: God of War\n",
      "2 - player 3 is playing: Blackjack\n"
     ]
    }
   ],
   "source": [
    "players = ['player 1', 'player 2', 'player 3']\n",
    "games = ['Zelda', 'God of War', 'Blackjack']\n",
    "\n",
    "for idx, (p, g) in enumerate(zip(players, games)):\n",
    "    print('{0} - {1} is playing: {2}'.format(idx, p, g))"
   ]
  },
  {
   "cell_type": "code",
   "execution_count": 27,
   "metadata": {},
   "outputs": [
    {
     "name": "stdout",
     "output_type": "stream",
     "text": [
      "('Vancouver', 'Victoria', 'Toronto')\n",
      "('BC', 'BC', 'ON')\n"
     ]
    }
   ],
   "source": [
    "# unziping\n",
    "z = [('Vancouver', 'BC'), ('Victoria', 'BC'), ('Toronto', 'ON')]\n",
    "city, province = zip(*z)\n",
    "\n",
    "print(city)\n",
    "print(province)"
   ]
  },
  {
   "cell_type": "code",
   "execution_count": 28,
   "metadata": {},
   "outputs": [
    {
     "name": "stdout",
     "output_type": "stream",
     "text": [
      "{'test1': 8, 'test2': 4}\n",
      "{'test1': 8, 'test2': 4, 'test3': 9}\n",
      "4\n",
      "True\n",
      "False\n"
     ]
    }
   ],
   "source": [
    "# Dictionaries\n",
    "\n",
    "x = {'test1':8, 'test2':4}; print(x)\n",
    "\n",
    "# adding a value\n",
    "x['test3'] = 9; print(x)\n",
    "\n",
    "# selecting a value\n",
    "print(x['test2'])\n",
    "\n",
    "# checking if a value exists\n",
    "print('test3' in x)\n",
    "print('test4' in x)"
   ]
  },
  {
   "cell_type": "code",
   "execution_count": 29,
   "metadata": {},
   "outputs": [
    {
     "name": "stdout",
     "output_type": "stream",
     "text": [
      "{'test1': 8, 'test2': 4, 'test3': 9, 'bonusTest': 3, 'participation': 5, 'test4': 6}\n",
      "{'test1': 8, 'test2': 4, 'test3': 9, 'bonusTest': 3, 'test4': 6} \n",
      "\n",
      "{'test1': 8, 'test2': 4, 'test3': 9, 'test4': 6}\n",
      "{'test1': 8, 'test2': 7, 'test3': 9, 'test4': 6} \n",
      "\n",
      "{'test1': 8, 'test2': 8, 'test3': 9, 'test4': 9}\n"
     ]
    }
   ],
   "source": [
    "# 'del' deletes a value in a dict, 'pop' returns and deletes a value in a dict\n",
    "\n",
    "# del\n",
    "x = {'test1':8, 'test2':4, 'test3': 9, 'bonusTest': 3, 'participation':5, 'test4': 6}; print(x)\n",
    "del x['participation']; print(x, '\\n')\n",
    "\n",
    "# pop\n",
    "y = x.pop('bonusTest'); print(x)\n",
    "x['test2'] = x['test2'] + y; print(x, '\\n')\n",
    "\n",
    "# update\n",
    "x.update({'test4':9, 'test2':8}); print(x)"
   ]
  },
  {
   "cell_type": "code",
   "execution_count": 30,
   "metadata": {},
   "outputs": [
    {
     "name": "stdout",
     "output_type": "stream",
     "text": [
      "dict_keys(['test1', 'test2', 'test3'])\n",
      "dict_values([8, 7, 9])\n"
     ]
    }
   ],
   "source": [
    "x = {'test1':8, 'test2':7, 'test3': 9}\n",
    "\n",
    "# keys\n",
    "print(x.keys())\n",
    "\n",
    "#values\n",
    "print(x.values())"
   ]
  },
  {
   "cell_type": "code",
   "execution_count": 31,
   "metadata": {},
   "outputs": [
    {
     "name": "stdout",
     "output_type": "stream",
     "text": [
      "{'John': 1200, 'Paul': 860, 'Mike': 1050, 'Steve': 1380}\n"
     ]
    }
   ],
   "source": [
    "# assigning lists to dicts\n",
    "\n",
    "names = ['John', 'Paul', 'Mike', 'Steve']\n",
    "pay = [1200, 860, 1050, 1380]\n",
    "d = {}\n",
    "\n",
    "# zip the two lists and loop through the values assigning *name as the index and pay as the value \n",
    "for n, p in zip(names, pay):\n",
    "    d[n]=p\n",
    "\n",
    "print(d)"
   ]
  },
  {
   "cell_type": "code",
   "execution_count": 33,
   "metadata": {},
   "outputs": [
    {
     "name": "stdout",
     "output_type": "stream",
     "text": [
      "{'John': [1200, -50], 'Paul': [860, -34], 'Mike': [1050, 0], 'Steve': [1380, -300]}\n"
     ]
    }
   ],
   "source": [
    "# we can use a list to save more than one value per index in a dict\n",
    "\n",
    "names = ['John', 'Paul', 'Mike', 'Steve']\n",
    "pay = [1200, 860, 1050, 1380]\n",
    "dept = [-50, -34, 0, -300]\n",
    "d={}\n",
    "\n",
    "for idx, n in enumerate(names):\n",
    "    d[n] = [pay[idx], dept[idx]]\n",
    "    \n",
    "print(d)"
   ]
  },
  {
   "cell_type": "code",
   "execution_count": null,
   "metadata": {},
   "outputs": [],
   "source": []
  }
 ],
 "metadata": {
  "kernelspec": {
   "display_name": "Python 3",
   "language": "python",
   "name": "python3"
  },
  "language_info": {
   "codemirror_mode": {
    "name": "ipython",
    "version": 3
   },
   "file_extension": ".py",
   "mimetype": "text/x-python",
   "name": "python",
   "nbconvert_exporter": "python",
   "pygments_lexer": "ipython3",
   "version": "3.7.3"
  }
 },
 "nbformat": 4,
 "nbformat_minor": 2
}
