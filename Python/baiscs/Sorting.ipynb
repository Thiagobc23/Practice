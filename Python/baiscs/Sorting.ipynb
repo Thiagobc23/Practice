{
 "cells": [
  {
   "cell_type": "code",
   "execution_count": 1,
   "metadata": {},
   "outputs": [
    {
     "data": {
      "text/plain": [
       "array([256, 379, 287, 127, 233, 493, 114, 372, 323,  38, 406,  52, 226,\n",
       "       339,  92, 230, 445, 329, 282, 446, 109, 488,  59, 334, 304, 443,\n",
       "       150, 254, 133, 369, 113, 277,  19,  61, 169, 180, 441, 376,  59,\n",
       "       482,  92, 495,  69, 311, 180, 306, 235, 113, 451,  53, 158, 314,\n",
       "       136,  50, 477,  24, 407, 150,  63, 465, 422, 146, 324,  23, 247,\n",
       "       180, 143, 238, 455, 437, 148,  25, 426, 332, 451, 326, 120,  83,\n",
       "       152, 446, 468, 274, 345, 379, 267,  54, 416, 135, 343, 114, 163,\n",
       "       283, 389, 134, 320, 385, 476, 215,  71, 161, 430, 309, 476, 395,\n",
       "       334, 119, 309, 129, 127, 328,  29, 196, 206, 331, 435, 498,  13,\n",
       "       419, 335, 259, 180, 310, 280, 440, 136, 490, 276, 256, 204, 240,\n",
       "       421, 210, 165, 200, 183, 393, 208, 173, 381, 329,  53, 285, 365,\n",
       "       224,  65, 494, 370, 258, 199, 431, 261, 407, 316, 106, 264, 216,\n",
       "       357, 450,  35,  35, 228, 387, 238, 147, 288, 370,  85,  55, 356,\n",
       "        56,  74, 473, 395,  33, 480, 317, 351, 159,  25, 117, 123, 248,\n",
       "       381, 359, 318, 142, 338,  70, 223, 280, 330, 425, 404, 387, 293,\n",
       "       266, 218,  83, 373, 179])"
      ]
     },
     "execution_count": 1,
     "metadata": {},
     "output_type": "execute_result"
    }
   ],
   "source": [
    "# Comparing Sorting techniques\n",
    "# Bubble sor, Merge sort, \n",
    "# https://www.tutorialspoint.com/python/python_sorting_algorithms.htm\n",
    "\n",
    "# Generate random list\n",
    "#import numpy\n",
    "#np = numpy.random.randint(10,500,200)\n",
    "#np\n",
    "\n",
    "# This test was performed with:\n",
    "#[347, 471, 190, 128, 209,  57, 421,  74, 355,  63,  58, 351, 330,\n",
    "#123, 205, 387, 273, 443,  46, 394, 221, 268,  87,  78, 256, 212,\n",
    "#461, 122, 362, 416, 126, 241, 164, 378, 302,  93, 228, 357, 350,\n",
    "#357,  20,  61, 316,  18, 337, 127,  52, 408, 310, 243,  23, 312,\n",
    "#361, 313, 234,  28, 307, 245, 494, 135, 223,  57, 209, 397, 323,\n",
    "#229,  18, 297, 353,  57,  10, 448, 125, 489, 475, 451, 449, 452,\n",
    "#240, 477, 340, 182, 377, 462, 314, 311, 143, 164,  75, 302, 327,\n",
    "#408, 191, 289, 296, 398, 300,  68, 388, 205, 228,  12,  60, 202,\n",
    "#251, 312, 294, 257, 313,  20, 242, 436, 385, 255, 485, 490, 495,\n",
    "#393, 497,  25, 492, 315,  76, 493, 351,  60, 327, 175, 474,  54,\n",
    "#120, 211,  53,  38, 180, 188, 112, 404,  77, 258, 482,  41, 451,\n",
    "#229, 401,  60, 380, 395, 354, 182, 332, 321,  96, 170,  26, 278,\n",
    "#191, 338, 449, 281, 210, 372, 118, 358, 486, 414, 187,  54, 237,\n",
    "#245, 306,  39, 260, 232, 220,  31, 480, 289, 275, 121, 150, 444,\n",
    "#264, 252,  99, 201, 139,  78, 476, 327,  87, 455, 328, 473, 335,\n",
    "#250, 132, 187, 269, 362]"
   ]
  },
  {
   "cell_type": "code",
   "execution_count": 2,
   "metadata": {},
   "outputs": [],
   "source": [
    "import time\n",
    "\n",
    "# a = Bubble sort    b = Merge sort    c = Insertion sort\n",
    "# d = Shell sort    e = Selection sort    f = Tim sort (python default)\n",
    "\n",
    "w, h = 2, 6;\n",
    "testResults = [[0 for x in range(w)] for y in range(h)] \n",
    "\n",
    "myList = [347, 471, 190, 128, 209,  57, 421,  74, 355,  63,  58, 351, 330,\n",
    "       123, 205, 387, 273, 443,  46, 394, 221, 268,  87,  78, 256, 212,\n",
    "       461, 122, 362, 416, 126, 241, 164, 378, 302,  93, 228, 357, 350,\n",
    "       357,  20,  61, 316,  18, 337, 127,  52, 408, 310, 243,  23, 312,\n",
    "       361, 313, 234,  28, 307, 245, 494, 135, 223,  57, 209, 397, 323,\n",
    "       229,  18, 297, 353,  57,  10, 448, 125, 489, 475, 451, 449, 452,\n",
    "       240, 477, 340, 182, 377, 462, 314, 311, 143, 164,  75, 302, 327,\n",
    "       408, 191, 289, 296, 398, 300,  68, 388, 205, 228,  12,  60, 202,\n",
    "       251, 312, 294, 257, 313,  20, 242, 436, 385, 255, 485, 490, 495,\n",
    "       393, 497,  25, 492, 315,  76, 493, 351,  60, 327, 175, 474,  54,\n",
    "       120, 211,  53,  38, 180, 188, 112, 404,  77, 258, 482,  41, 451,\n",
    "       229, 401,  60, 380, 395, 354, 182, 332, 321,  96, 170,  26, 278,\n",
    "       191, 338, 449, 281, 210, 372, 118, 358, 486, 414, 187,  54, 237,\n",
    "       245, 306,  39, 260, 232, 220,  31, 480, 289, 275, 121, 150, 444,\n",
    "       264, 252,  99, 201, 139,  78, 476, 327,  87, 455, 328, 473, 335,\n",
    "       250, 132, 187, 269, 362]"
   ]
  },
  {
   "cell_type": "code",
   "execution_count": 3,
   "metadata": {
    "scrolled": true
   },
   "outputs": [
    {
     "name": "stdout",
     "output_type": "stream",
     "text": [
      "[10, 12, 18, 18, 20, 20, 23, 25, 26, 28, 31, 38, 39, 41, 46, 52, 53, 54, 54, 57, 57, 57, 58, 60, 60, 60, 61, 63, 68, 74, 75, 76, 77, 78, 78, 87, 87, 93, 96, 99, 112, 118, 120, 121, 122, 123, 125, 126, 127, 128, 132, 135, 139, 143, 150, 164, 164, 170, 175, 180, 182, 182, 187, 187, 188, 190, 191, 191, 201, 202, 205, 205, 209, 209, 210, 211, 212, 220, 221, 223, 228, 228, 229, 229, 232, 234, 237, 240, 241, 242, 243, 245, 245, 250, 251, 252, 255, 256, 257, 258, 260, 264, 268, 269, 273, 275, 278, 281, 289, 289, 294, 296, 297, 300, 302, 302, 306, 307, 310, 311, 312, 312, 313, 313, 314, 315, 316, 321, 323, 327, 327, 327, 328, 330, 332, 335, 337, 338, 340, 347, 350, 351, 351, 353, 354, 355, 357, 357, 358, 361, 362, 362, 372, 377, 378, 380, 385, 387, 388, 393, 394, 395, 397, 398, 401, 404, 408, 408, 414, 416, 421, 436, 443, 444, 448, 449, 449, 451, 451, 452, 455, 461, 462, 471, 473, 474, 475, 476, 477, 480, 482, 485, 486, 489, 490, 492, 493, 494, 495, 497]\n",
      "0.010878801345825195\n"
     ]
    }
   ],
   "source": [
    "testResults[0][0] = time.time()\n",
    "\n",
    "def bubblesort(list):\n",
    "\n",
    "# Swap the elements to arrange in order\n",
    "    for iter_num in range(len(list)-1,0,-1):\n",
    "        for idx in range(iter_num):\n",
    "            if list[idx]>list[idx+1]:\n",
    "                temp = list[idx]\n",
    "                list[idx] = list[idx+1]\n",
    "                list[idx+1] = temp\n",
    "bList = myList\n",
    "bubblesort(bList)\n",
    "print(bList)\n",
    "\n",
    "testResults[0][1] = time.time()\n",
    "\n",
    "print(testResults[0][1] - testResults[0][0])"
   ]
  },
  {
   "cell_type": "code",
   "execution_count": 4,
   "metadata": {},
   "outputs": [
    {
     "name": "stdout",
     "output_type": "stream",
     "text": [
      "[10, 12, 18, 18, 20, 20, 23, 25, 26, 28, 31, 38, 39, 41, 46, 52, 53, 54, 54, 57, 57, 57, 58, 60, 60, 60, 61, 63, 68, 74, 75, 76, 77, 78, 78, 87, 87, 93, 96, 99, 112, 118, 120, 121, 122, 123, 125, 126, 127, 128, 132, 135, 139, 143, 150, 164, 164, 170, 175, 180, 182, 182, 187, 187, 188, 190, 191, 191, 201, 202, 205, 205, 209, 209, 210, 211, 212, 220, 221, 223, 228, 228, 229, 229, 232, 234, 237, 240, 241, 242, 243, 245, 245, 250, 251, 252, 255, 256, 257, 258, 260, 264, 268, 269, 273, 275, 278, 281, 289, 289, 294, 296, 297, 300, 302, 302, 306, 307, 310, 311, 312, 312, 313, 313, 314, 315, 316, 321, 323, 327, 327, 327, 328, 330, 332, 335, 337, 338, 340, 347, 350, 351, 351, 353, 354, 355, 357, 357, 358, 361, 362, 362, 372, 377, 378, 380, 385, 387, 388, 393, 394, 395, 397, 398, 401, 404, 408, 408, 414, 416, 421, 436, 443, 444, 448, 449, 449, 451, 451, 452, 455, 461, 462, 471, 473, 474, 475, 476, 477, 480, 482, 485, 486, 489, 490, 492, 493, 494, 495, 497]\n",
      "0.0019829273223876953\n"
     ]
    }
   ],
   "source": [
    "testResults[1][0] = time.time()\n",
    "\n",
    "def merge_sort(unsorted_list):\n",
    "    if len(unsorted_list) <= 1:\n",
    "        return unsorted_list\n",
    "# Find the middle point and devide it\n",
    "    middle = len(unsorted_list) // 2\n",
    "    left_list = unsorted_list[:middle]\n",
    "    right_list = unsorted_list[middle:]\n",
    "\n",
    "    left_list = merge_sort(left_list)\n",
    "    right_list = merge_sort(right_list)\n",
    "    mlist = merge(left_list, right_list)\n",
    "    return mlist\n",
    "\n",
    "# Merge the sorted halves\n",
    "\n",
    "def merge(left_half,right_half):\n",
    "\n",
    "    res = []\n",
    "    while len(left_half) != 0 and len(right_half) != 0:\n",
    "        if left_half[0] < right_half[0]:\n",
    "            res.append(left_half[0])\n",
    "            left_half.remove(left_half[0])\n",
    "        else:\n",
    "            res.append(right_half[0])\n",
    "            right_half.remove(right_half[0])\n",
    "    if len(left_half) == 0:\n",
    "        res = res + right_half\n",
    "    else:\n",
    "        res = res + left_half\n",
    "    return res\n",
    "\n",
    "mergeList = merge_sort(myList)\n",
    "print(mergeList)\n",
    "\n",
    "testResults[1][1] = time.time()\n",
    "\n",
    "print(testResults[1][1] - testResults[1][0])"
   ]
  },
  {
   "cell_type": "code",
   "execution_count": 5,
   "metadata": {},
   "outputs": [
    {
     "name": "stdout",
     "output_type": "stream",
     "text": [
      "[10, 12, 18, 18, 20, 20, 23, 25, 26, 28, 31, 38, 39, 41, 46, 52, 53, 54, 54, 57, 57, 57, 58, 60, 60, 60, 61, 63, 68, 74, 75, 76, 77, 78, 78, 87, 87, 93, 96, 99, 112, 118, 120, 121, 122, 123, 125, 126, 127, 128, 132, 135, 139, 143, 150, 164, 164, 170, 175, 180, 182, 182, 187, 187, 188, 190, 191, 191, 201, 202, 205, 205, 209, 209, 210, 211, 212, 220, 221, 223, 228, 228, 229, 229, 232, 234, 237, 240, 241, 242, 243, 245, 245, 250, 251, 252, 255, 256, 257, 258, 260, 264, 268, 269, 273, 275, 278, 281, 289, 289, 294, 296, 297, 300, 302, 302, 306, 307, 310, 311, 312, 312, 313, 313, 314, 315, 316, 321, 323, 327, 327, 327, 328, 330, 332, 335, 337, 338, 340, 347, 350, 351, 351, 353, 354, 355, 357, 357, 358, 361, 362, 362, 372, 377, 378, 380, 385, 387, 388, 393, 394, 395, 397, 398, 401, 404, 408, 408, 414, 416, 421, 436, 443, 444, 448, 449, 449, 451, 451, 452, 455, 461, 462, 471, 473, 474, 475, 476, 477, 480, 482, 485, 486, 489, 490, 492, 493, 494, 495, 497]\n",
      "0.0004968643188476562\n"
     ]
    }
   ],
   "source": [
    "testResults[2][0] = time.time()\n",
    "\n",
    "def insertion_sort(InputList):\n",
    "    for i in range(1, len(InputList)):\n",
    "        j = i-1\n",
    "        nxt_element = InputList[i]\n",
    "# Compare the current element with next one\n",
    "\t\t\n",
    "        while (InputList[j] > nxt_element) and (j >= 0):\n",
    "            InputList[j+1] = InputList[j]\n",
    "            j=j-1\n",
    "        InputList[j+1] = nxt_element\n",
    "\n",
    "inList = myList\n",
    "insertion_sort(inList)\n",
    "print(inList)\n",
    "\n",
    "testResults[2][1] = time.time()\n",
    "\n",
    "print(testResults[2][1] - testResults[2][0])"
   ]
  },
  {
   "cell_type": "code",
   "execution_count": 6,
   "metadata": {},
   "outputs": [
    {
     "name": "stdout",
     "output_type": "stream",
     "text": [
      "[10, 12, 18, 18, 20, 20, 23, 25, 26, 28, 31, 38, 39, 41, 46, 52, 53, 54, 54, 57, 57, 57, 58, 60, 60, 60, 61, 63, 68, 74, 75, 76, 77, 78, 78, 87, 87, 93, 96, 99, 112, 118, 120, 121, 122, 123, 125, 126, 127, 128, 132, 135, 139, 143, 150, 164, 164, 170, 175, 180, 182, 182, 187, 187, 188, 190, 191, 191, 201, 202, 205, 205, 209, 209, 210, 211, 212, 220, 221, 223, 228, 228, 229, 229, 232, 234, 237, 240, 241, 242, 243, 245, 245, 250, 251, 252, 255, 256, 257, 258, 260, 264, 268, 269, 273, 275, 278, 281, 289, 289, 294, 296, 297, 300, 302, 302, 306, 307, 310, 311, 312, 312, 313, 313, 314, 315, 316, 321, 323, 327, 327, 327, 328, 330, 332, 335, 337, 338, 340, 347, 350, 351, 351, 353, 354, 355, 357, 357, 358, 361, 362, 362, 372, 377, 378, 380, 385, 387, 388, 393, 394, 395, 397, 398, 401, 404, 408, 408, 414, 416, 421, 436, 443, 444, 448, 449, 449, 451, 451, 452, 455, 461, 462, 471, 473, 474, 475, 476, 477, 480, 482, 485, 486, 489, 490, 492, 493, 494, 495, 497]\n",
      "0.0014872550964355469\n"
     ]
    }
   ],
   "source": [
    "testResults[3][0] = time.time()\n",
    "\n",
    "def shellSort(input_list):\n",
    "    \n",
    "    gap = len(input_list) // 2\n",
    "    while gap > 0:\n",
    "\n",
    "        for i in range(gap, len(input_list)):\n",
    "            temp = input_list[i]\n",
    "            j = i\n",
    "# Sort the sub list for this gap\n",
    "\n",
    "            while j >= gap and input_list[j - gap] > temp:\n",
    "                input_list[j] = input_list[j - gap]\n",
    "                j = j-gap\n",
    "            input_list[j] = temp\n",
    "\n",
    "# Reduce the gap for the next element\n",
    "\n",
    "        gap = gap//2\n",
    "\n",
    "sList = myList\n",
    "shellSort(sList)\n",
    "print(sList)\n",
    "\n",
    "testResults[3][1] = time.time()\n",
    "\n",
    "print(testResults[3][1] - testResults[3][0])"
   ]
  },
  {
   "cell_type": "code",
   "execution_count": 7,
   "metadata": {},
   "outputs": [
    {
     "name": "stdout",
     "output_type": "stream",
     "text": [
      "[10, 12, 18, 18, 20, 20, 23, 25, 26, 28, 31, 38, 39, 41, 46, 52, 53, 54, 54, 57, 57, 57, 58, 60, 60, 60, 61, 63, 68, 74, 75, 76, 77, 78, 78, 87, 87, 93, 96, 99, 112, 118, 120, 121, 122, 123, 125, 126, 127, 128, 132, 135, 139, 143, 150, 164, 164, 170, 175, 180, 182, 182, 187, 187, 188, 190, 191, 191, 201, 202, 205, 205, 209, 209, 210, 211, 212, 220, 221, 223, 228, 228, 229, 229, 232, 234, 237, 240, 241, 242, 243, 245, 245, 250, 251, 252, 255, 256, 257, 258, 260, 264, 268, 269, 273, 275, 278, 281, 289, 289, 294, 296, 297, 300, 302, 302, 306, 307, 310, 311, 312, 312, 313, 313, 314, 315, 316, 321, 323, 327, 327, 327, 328, 330, 332, 335, 337, 338, 340, 347, 350, 351, 351, 353, 354, 355, 357, 357, 358, 361, 362, 362, 372, 377, 378, 380, 385, 387, 388, 393, 394, 395, 397, 398, 401, 404, 408, 408, 414, 416, 421, 436, 443, 444, 448, 449, 449, 451, 451, 452, 455, 461, 462, 471, 473, 474, 475, 476, 477, 480, 482, 485, 486, 489, 490, 492, 493, 494, 495, 497]\n",
      "0.0029757022857666016\n"
     ]
    }
   ],
   "source": [
    "testResults[4][0] = time.time()\n",
    "\n",
    "def selection_sort(input_list):\n",
    "\n",
    "    for idx in range(len(input_list)):\n",
    "\n",
    "        min_idx = idx\n",
    "        for j in range( idx +1, len(input_list)):\n",
    "            if input_list[min_idx] > input_list[j]:\n",
    "                min_idx = j\n",
    "# Swap the minimum value with the compared value\n",
    "\n",
    "        input_list[idx], input_list[min_idx] = input_list[min_idx], input_list[idx]\n",
    "\n",
    "\n",
    "selList = myList\n",
    "selection_sort(selList)\n",
    "print(selList)\n",
    "\n",
    "testResults[4][1] = time.time()\n",
    "\n",
    "print(testResults[4][1] - testResults[4][0])"
   ]
  },
  {
   "cell_type": "code",
   "execution_count": 8,
   "metadata": {},
   "outputs": [
    {
     "name": "stdout",
     "output_type": "stream",
     "text": [
      "[10, 12, 18, 18, 20, 20, 23, 25, 26, 28, 31, 38, 39, 41, 46, 52, 53, 54, 54, 57, 57, 57, 58, 60, 60, 60, 61, 63, 68, 74, 75, 76, 77, 78, 78, 87, 87, 93, 96, 99, 112, 118, 120, 121, 122, 123, 125, 126, 127, 128, 132, 135, 139, 143, 150, 164, 164, 170, 175, 180, 182, 182, 187, 187, 188, 190, 191, 191, 201, 202, 205, 205, 209, 209, 210, 211, 212, 220, 221, 223, 228, 228, 229, 229, 232, 234, 237, 240, 241, 242, 243, 245, 245, 250, 251, 252, 255, 256, 257, 258, 260, 264, 268, 269, 273, 275, 278, 281, 289, 289, 294, 296, 297, 300, 302, 302, 306, 307, 310, 311, 312, 312, 313, 313, 314, 315, 316, 321, 323, 327, 327, 327, 328, 330, 332, 335, 337, 338, 340, 347, 350, 351, 351, 353, 354, 355, 357, 357, 358, 361, 362, 362, 372, 377, 378, 380, 385, 387, 388, 393, 394, 395, 397, 398, 401, 404, 408, 408, 414, 416, 421, 436, 443, 444, 448, 449, 449, 451, 451, 452, 455, 461, 462, 471, 473, 474, 475, 476, 477, 480, 482, 485, 486, 489, 490, 492, 493, 494, 495, 497]\n",
      "0.0016169548034667969\n"
     ]
    }
   ],
   "source": [
    "testResults[5][0] = time.time()\n",
    "\n",
    "myList.sort()\n",
    "print(myList)\n",
    "\n",
    "testResults[5][1] = time.time()\n",
    "\n",
    "print(testResults[5][1] - testResults[5][0])"
   ]
  },
  {
   "cell_type": "code",
   "execution_count": 13,
   "metadata": {},
   "outputs": [
    {
     "name": "stdout",
     "output_type": "stream",
     "text": [
      "0.010878801345825195\n",
      "0.0019829273223876953\n",
      "0.0004968643188476562\n",
      "0.0014872550964355469\n",
      "0.0029757022857666016\n",
      "0.0016169548034667969\n"
     ]
    }
   ],
   "source": [
    "results = []\n",
    "\n",
    "for i in testResults:\n",
    "    r = i[1]-i[0]\n",
    "    results.append(r)\n",
    "    print(r)"
   ]
  },
  {
   "cell_type": "code",
   "execution_count": 16,
   "metadata": {},
   "outputs": [
    {
     "data": {
      "text/plain": [
       "<BarContainer object of 6 artists>"
      ]
     },
     "execution_count": 16,
     "metadata": {},
     "output_type": "execute_result"
    },
    {
     "data": {
      "image/png": "[encoded data removed]",
      "text/plain": [
       "<Figure size 432x288 with 1 Axes>"
      ]
     },
     "metadata": {
      "needs_background": "light"
     },
     "output_type": "display_data"
    }
   ],
   "source": [
    "import matplotlib.pyplot as plt\n",
    "import pandas as pd\n",
    "\n",
    "labels = ['Bubble', 'Merge', 'Insertion', 'Shell', 'Selection', 'Tim']\n",
    "\n",
    "plt.ylim(0, 0.02)\n",
    "plt.title('performance')\n",
    "plt.bar(labels, results, 0.5)\n",
    "\n",
    "#Insertion had the best performance in this test"
   ]
  },
  {
   "cell_type": "code",
   "execution_count": null,
   "metadata": {},
   "outputs": [],
   "source": []
  }
 ],
 "metadata": {
  "kernelspec": {
   "display_name": "Python 3",
   "language": "python",
   "name": "python3"
  }
 },
 "nbformat": 4,
 "nbformat_minor": 2
}
