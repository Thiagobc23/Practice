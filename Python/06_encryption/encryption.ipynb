{
 "cells": [
  {
   "cell_type": "code",
   "execution_count": 1,
   "metadata": {},
   "outputs": [],
   "source": [
    "import pyperclip"
   ]
  },
  {
   "cell_type": "code",
   "execution_count": 12,
   "metadata": {},
   "outputs": [],
   "source": [
    "def process(message):\n",
    "    \n",
    "    LETTERS = 'ABCDEFGHIJKLMNOPQRSTUVWXYZ'\n",
    "    translated = ''\n",
    "    message = message.upper()\n",
    "    \n",
    "    for symbol in message:\n",
    "        if symbol in LETTERS:\n",
    "            # get the encrypted (or decrypted) number for this symbol\n",
    "            num = LETTERS.find(symbol) # get the number of the symbol\n",
    "            if mode == 'encrypt':\n",
    "                num = num + key\n",
    "            elif mode == 'decrypt':\n",
    "                num = num - key\n",
    "            # handle the wrap-around if num is larger than the length of LETTERS or less than 0   \n",
    "            if num >= len(LETTERS):\n",
    "                num = num - len(LETTERS)\n",
    "            elif num < 0:\n",
    "                num = num + len(LETTERS)\n",
    "            # add encrypted/decrypted number's symbol at the end of translated        \n",
    "            translated = translated + LETTERS[num]\n",
    "\n",
    "        else:\n",
    "            # just add the symbol without encrypting/decrypting\n",
    "            translated = translated + symbol\n",
    "\n",
    "    return translated"
   ]
  },
  {
   "cell_type": "code",
   "execution_count": 15,
   "metadata": {},
   "outputs": [
    {
     "name": "stdout",
     "output_type": "stream",
     "text": [
      "FTUE UE YK EQODQF YQEEMSQ.\n"
     ]
    }
   ],
   "source": [
    "plain = 'This is my secret message.'\n",
    "key = 12\n",
    "mode = 'encrypt' # set to 'encrypt' or 'decrypt'\n",
    "\n",
    "# encrypt string and print result\n",
    "hidden = process(plain)\n",
    "print(hidden)"
   ]
  },
  {
   "cell_type": "code",
   "execution_count": 17,
   "metadata": {},
   "outputs": [
    {
     "name": "stdout",
     "output_type": "stream",
     "text": [
      "THIS IS MY SECRET MESSAGE.\n"
     ]
    }
   ],
   "source": [
    "# decrypted \n",
    "key = 12\n",
    "mode = 'decrypt' # set to 'encrypt' or 'decrypt'\n",
    "\n",
    "translated = process(hidden)\n",
    "print(translated)"
   ]
  },
  {
   "cell_type": "code",
   "execution_count": null,
   "metadata": {},
   "outputs": [],
   "source": []
  }
 ],
 "metadata": {
  "kernelspec": {
   "display_name": "Python 3",
   "language": "python",
   "name": "python3"
  },
  "language_info": {
   "codemirror_mode": {
    "name": "ipython",
    "version": 3
   },
   "file_extension": ".py",
   "mimetype": "text/x-python",
   "name": "python",
   "nbconvert_exporter": "python",
   "pygments_lexer": "ipython3",
   "version": "3.7.3"
  }
 },
 "nbformat": 4,
 "nbformat_minor": 2
}
